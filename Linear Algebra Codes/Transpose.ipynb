{
  "metadata": {
    "language_info": {
      "name": ""
    },
    "kernelspec": {
      "name": "python",
      "display_name": "Python (Pyodide)",
      "language": "python"
    }
  },
  "nbformat_minor": 4,
  "nbformat": 4,
  "cells": [
    {
      "cell_type": "code",
      "source": "# create matrix with 3 rows and 3 columns\nMatrix = matrix(1:9, nrow = 3);\n \n# print the matrix\nprint(Matrix)\n \n# create another matrix\nM2 = Matrix\n \n# Loops for Matrix Transpose\nfor (i in 1:nrow(M2))\n{\n    # iterate over each row\n    for (j in 1:ncol(M2))\n    {\n        # iterate over each column\n        # assign the correspondent elements\n        # from row to column and column to row.\n        M2[i, j] <- Matrix[j, i]\n    }\n}\n \n# print the transposed matrix\nprint(M2)\n",
      "metadata": {},
      "execution_count": null,
      "outputs": []
    }
  ]
}