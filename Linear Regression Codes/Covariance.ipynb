{
  "metadata": {
    "language_info": {
      "name": ""
    },
    "kernelspec": {
      "name": "python",
      "display_name": "Python (Pyodide)",
      "language": "python"
    }
  },
  "nbformat_minor": 4,
  "nbformat": 4,
  "cells": [
    {
      "cell_type": "code",
      "source": "# Calculate Covariance\n\n# Calculate the mean value of a list of numbers\ndef mean(values):\n\treturn sum(values) / float(len(values))\n\n# Calculate covariance between x and y\ndef covariance(x, mean_x, y, mean_y):\n\tcovar = 0.0\n\tfor i in range(len(x)):\n\t\tcovar += (x[i] - mean_x) * (y[i] - mean_y)\n\treturn covar\n\n# calculate covariance\ndataset = [[1, 1], [2, 3], [4, 3], [3, 2], [5, 5]]\nx = [row[0] for row in dataset]\ny = [row[1] for row in dataset]\nmean_x, mean_y = mean(x), mean(y)\ncovar = covariance(x, mean_x, y, mean_y)\nprint('Covariance: %.3f' % (covar))\n",
      "metadata": {},
      "execution_count": null,
      "outputs": []
    }
  ]
}