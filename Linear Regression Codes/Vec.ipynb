{
  "metadata": {
    "language_info": {
      "name": ""
    },
    "kernelspec": {
      "name": "python",
      "display_name": "Python (Pyodide)",
      "language": "python"
    }
  },
  "nbformat_minor": 4,
  "nbformat": 4,
  "cells": [
    {
      "cell_type": "code",
      "source": "var Vector = function(x, y) {\n  this.x = x;\n  this.y = y;\n}\nVector.prototype.add = function(other) {\n  return new Vector(this.x + other.x, this.y + other.y);\n}\nVector.prototype.subtract = function(other) {\n  return new Vector(this.x - other.x, this.y - other.y);\n}\nVector.prototype.scale = function(scalar) {\n  return new Vector(this.x * scalar, this.y * scalar);\n}\nVector.prototype.dot = function(other) {\n  return this.x * other.x + this.y * other.y;\n}\nVector.prototype.length = function() {\n  return Math.sqrt(this.dot(this));\n}\nVector.prototype.normalize = function() {\n  return this.scale(1 / this.length());\n}\nVector.prototype.rotate = function(angle) {\n  return new Vector(this.x * Math.cos(angle) - this.y * Math.sin(angle),\n                    this.x * Math.sin(angle) + this.y * Math.cos(angle));\n}\nVector.prototype.toString = function() {\n  return '(' + this.x + ', ' + this.y + ')';\n}",
      "metadata": {},
      "execution_count": null,
      "outputs": []
    }
  ]
}