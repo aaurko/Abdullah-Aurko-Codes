{
  "metadata": {
    "language_info": {
      "name": ""
    },
    "kernelspec": {
      "name": "python",
      "display_name": "Python (Pyodide)",
      "language": "python"
    }
  },
  "nbformat_minor": 4,
  "nbformat": 4,
  "cells": [
    {
      "cell_type": "code",
      "source": "# Calculate Coefficients\n\n# Calculate the mean value of a list of numbers\ndef mean(values):\n\treturn sum(values) / float(len(values))\n\n# Calculate covariance between x and y\ndef covariance(x, mean_x, y, mean_y):\n\tcovar = 0.0\n\tfor i in range(len(x)):\n\t\tcovar += (x[i] - mean_x) * (y[i] - mean_y)\n\treturn covar\n\n# Calculate the variance of a list of numbers\ndef variance(values, mean):\n\treturn sum([(x-mean)**2 for x in values])\n\n# Calculate coefficients\ndef coefficients(dataset):\n\tx = [row[0] for row in dataset]\n\ty = [row[1] for row in dataset]\n\tx_mean, y_mean = mean(x), mean(y)\n\tb1 = covariance(x, x_mean, y, y_mean) / variance(x, x_mean)\n\tb0 = y_mean - b1 * x_mean\n\treturn [b0, b1]\n\n# calculate coefficients\ndataset = [[1, 1], [2, 3], [4, 3], [3, 2], [5, 5]]\nb0, b1 = coefficients(dataset)\nprint('Coefficients: B0=%.3f, B1=%.3f' % (b0, b1))",
      "metadata": {},
      "execution_count": null,
      "outputs": []
    }
  ]
}