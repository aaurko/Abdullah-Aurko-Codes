{
  "metadata": {
    "language_info": {
      "name": ""
    },
    "kernelspec": {
      "name": "python",
      "display_name": "Python (Pyodide)",
      "language": "python"
    }
  },
  "nbformat_minor": 4,
  "nbformat": 4,
  "cells": [
    {
      "cell_type": "code",
      "source": "# Estimate Mean and Variance\n\n# Calculate the mean value of a list of numbers\ndef mean(values):\n\treturn sum(values) / float(len(values))\n\n# Calculate the variance of a list of numbers\ndef variance(values, mean):\n\treturn sum([(x-mean)**2 for x in values])\n\n# calculate mean and variance\ndataset = [[1, 1], [2, 3], [4, 3], [3, 2], [5, 5]]\nx = [row[0] for row in dataset]\ny = [row[1] for row in dataset]\nmean_x, mean_y = mean(x), mean(y)\nvar_x, var_y = variance(x, mean_x), variance(y, mean_y)\nprint('x stats: mean=%.3f variance=%.3f' % (mean_x, var_x))\nprint('y stats: mean=%.3f variance=%.3f' % (mean_y, var_y))\n",
      "metadata": {},
      "execution_count": null,
      "outputs": []
    }
  ]
}